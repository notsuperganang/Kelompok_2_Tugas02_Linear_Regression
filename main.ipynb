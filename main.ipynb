{
 "cells": [
  {
   "cell_type": "markdown",
   "metadata": {},
   "source": [
    "# **Import Libraries**"
   ]
  },
  {
   "cell_type": "code",
   "execution_count": 1,
   "metadata": {},
   "outputs": [],
   "source": [
    "import pandas as pd\n",
    "import numpy as np\n",
    "import matplotlib.pyplot as plt\n",
    "import seaborn as sns\n",
    "import re"
   ]
  },
  {
   "cell_type": "markdown",
   "metadata": {},
   "source": [
    "# **🚗 1. Pemahaman Dataset**"
   ]
  },
  {
   "cell_type": "markdown",
   "metadata": {},
   "source": [
    "## **📌 Sumber dan Deskripsi Dataset**  \n",
    "\n",
    "Dataset **\"Car Price Prediction\"** digunakan untuk memprediksi harga kendaraan berdasarkan berbagai fitur dan karakteristik mobil. Dataset ini berasal dari **Kaggle**, salah satu platform utama untuk dataset dan kompetisi machine learning. \n",
    "\n",
    "📥 **Link Dataset**: [Car Price Prediction - Kaggle](https://www.kaggle.com/datasets/deepcontractor/car-price-prediction-challenge)  \n",
    "\n",
    "### **🔍 Gambaran Umum Dataset:**  \n",
    "- 📊 **Jumlah Baris**: 19.237 entri  \n",
    "- 📈 **Jumlah Kolom**: 18 variabel  \n",
    "- 🎯 **Target**: **\"Price\"** (harga mobil)  \n",
    "- 📅 **Rentang Tahun Produksi**: 1939 - 2020  \n",
    "- 💰 **Rentang Harga**: 1 - 26.307.500 (kemungkinan dalam USD)  \n",
    "- 📉 **Rata-rata Harga**: 18.555,93  \n",
    "\n",
    "### **💡 Mengapa dataset ini cocok untuk model regresi?**\n",
    "✔️ **Variabel target numerik yang jelas** (Price)  \n",
    "✔️ **Berisi fitur numerik & kategorikal**  \n",
    "✔️ **Jumlah data cukup besar untuk pelatihan yang baik**  \n",
    "✔️ **Mewakili berbagai segmen kendaraan dengan rentang harga luas**  \n",
    "\n",
    "---\n",
    "\n",
    "### **🔎 Variabel yang Digunakan** \n",
    "\n",
    "Dataset ini memiliki **18 kolom** yang mencakup berbagai spesifikasi kendaraan:  \n",
    "\n",
    "| 🔢 **Variabel** | 🏷 **Tipe Data** | 📝 **Deskripsi** |\n",
    "|---------------|--------------|----------------|\n",
    "| 🆔 **ID** | Integer | Nomor identifikasi unik untuk setiap mobil |\n",
    "| 💵 **Price** | Integer | **Target** - Harga kendaraan |\n",
    "| 💸 **Levy** | String | Pajak atau biaya terkait kendaraan |\n",
    "| 🏭 **Manufacturer** | String | Merek mobil (contoh: LEXUS, HONDA, TOYOTA) |\n",
    "| 🚘 **Model** | String | Model spesifik kendaraan |\n",
    "| 📅 **Prod. year** | Integer | Tahun produksi mobil (1939-2020) |\n",
    "| 🚙 **Category** | String | Tipe kendaraan (contoh: Jeep, Sedan, Hatchback) |\n",
    "| 🛋 **Leather interior** | String | Interior kulit (Yes/No) |\n",
    "| ⛽ **Fuel type** | String | Jenis bahan bakar (Petrol, Diesel, Hybrid, dll) |\n",
    "| 🔧 **Engine volume** | String | Volume mesin dalam liter |\n",
    "| 🏁 **Mileage** | String | Jarak tempuh kendaraan (biasanya dalam km) |\n",
    "| 🔥 **Cylinders** | Float | Jumlah silinder mesin |\n",
    "| ⚙️ **Gear box type** | String | Jenis transmisi (Automatic, Manual, dll) |\n",
    "| 🚀 **Drive wheels** | String | Konfigurasi penggerak roda (4x4, Front, Rear) |\n",
    "| 🚪 **Doors** | String | Jumlah pintu kendaraan |\n",
    "| 🛞 **Wheel** | String | Posisi kemudi (Left-wheel, Right-hand drive) |\n",
    "| 🎨 **Color** | String | Warna kendaraan |\n",
    "| 🛡 **Airbags** | Integer | Jumlah airbag dalam kendaraan |\n",
    "\n",
    "---\n",
    "\n",
    "Dataset ini menawarkan banyak fitur yang dapat digunakan untuk eksplorasi lebih lanjut dan membangun model prediktif yang akurat. 🚀✨\n",
    "\n",
    "💾 Selanjutnya mari kita lakukan **loading dataset** dan kita simpan kedalam sebuah **dataframe pandas** dengan nama `df`\n"
   ]
  },
  {
   "cell_type": "code",
   "execution_count": 2,
   "metadata": {},
   "outputs": [],
   "source": [
    "df = pd.read_csv('data/raw-data/car_price_prediction.csv')"
   ]
  },
  {
   "cell_type": "markdown",
   "metadata": {},
   "source": [
    "## 📊 **Statistik Deskriptif & Visualisasi Awal** \n",
    "\n",
    "Sebelum membangun model prediksi, kita perlu **memahami karakteristik data** melalui analisis statistik dan visualisasi.  \n",
    "\n",
    "💡 **Apa yang akan kita lakukan?**  \n",
    "✅ Meninjau distribusi harga mobil dan fitur lainnya  \n",
    "✅ Menganalisis tren berdasarkan tahun produksi, kategori, dan jenis bahan bakar  \n",
    "✅ Menggunakan grafik untuk melihat pola tersembunyi dalam data  \n",
    "\n",
    "🔍 Mari kita jelajahi data ini lebih dalam dengan statistik deskriptif dan visualisasi yang menarik! 🚀📈  \n",
    "\n",
    "---"
   ]
  },
  {
   "cell_type": "markdown",
   "metadata": {},
   "source": [
    "### **🎨 Konfigurasi Gaya Visualisasi**  \n",
    "\n",
    "Sebelum mulai membuat grafik, kita perlu **mengatur gaya visualisasi** agar hasilnya lebih **menarik, konsisten, dan mudah dibaca**.  "
   ]
  },
  {
   "cell_type": "code",
   "execution_count": 3,
   "metadata": {},
   "outputs": [],
   "source": [
    "# Mengatur style visualisasi\n",
    "plt.style.use('seaborn-v0_8-whitegrid')\n",
    "sns.set_palette('viridis')\n",
    "plt.rcParams['figure.figsize'] = (12, 8)\n",
    "plt.rcParams['font.size'] = 12"
   ]
  },
  {
   "cell_type": "markdown",
   "metadata": {},
   "source": [
    "📊 Dengan konfigurasi ini, visualisasi kita akan lebih **informatif dan estetis**! 🚀🎨  "
   ]
  },
  {
   "cell_type": "markdown",
   "metadata": {},
   "source": [
    "### 🔍 **Beberapa Baris Pertama Dataset**  \n",
    "\n",
    "Sebelum masuk lebih dalam, mari kita **mengintip isi dataset** untuk memahami struktur dan jenis data yang ada. 👀  \n",
    "\n",
    "📌 Mari kita lihat bagaimana tampilan awal dataset kita! 📊  "
   ]
  },
  {
   "cell_type": "code",
   "execution_count": 4,
   "metadata": {},
   "outputs": [
    {
     "data": {
      "application/vnd.microsoft.datawrangler.viewer.v0+json": {
       "columns": [
        {
         "name": "index",
         "rawType": "int64",
         "type": "integer"
        },
        {
         "name": "ID",
         "rawType": "int64",
         "type": "integer"
        },
        {
         "name": "Price",
         "rawType": "int64",
         "type": "integer"
        },
        {
         "name": "Levy",
         "rawType": "object",
         "type": "string"
        },
        {
         "name": "Manufacturer",
         "rawType": "object",
         "type": "string"
        },
        {
         "name": "Model",
         "rawType": "object",
         "type": "string"
        },
        {
         "name": "Prod. year",
         "rawType": "int64",
         "type": "integer"
        },
        {
         "name": "Category",
         "rawType": "object",
         "type": "string"
        },
        {
         "name": "Leather interior",
         "rawType": "object",
         "type": "string"
        },
        {
         "name": "Fuel type",
         "rawType": "object",
         "type": "string"
        },
        {
         "name": "Engine volume",
         "rawType": "object",
         "type": "string"
        },
        {
         "name": "Mileage",
         "rawType": "object",
         "type": "string"
        },
        {
         "name": "Cylinders",
         "rawType": "float64",
         "type": "float"
        },
        {
         "name": "Gear box type",
         "rawType": "object",
         "type": "string"
        },
        {
         "name": "Drive wheels",
         "rawType": "object",
         "type": "string"
        },
        {
         "name": "Doors",
         "rawType": "object",
         "type": "string"
        },
        {
         "name": "Wheel",
         "rawType": "object",
         "type": "string"
        },
        {
         "name": "Color",
         "rawType": "object",
         "type": "string"
        },
        {
         "name": "Airbags",
         "rawType": "int64",
         "type": "integer"
        }
       ],
       "conversionMethod": "pd.DataFrame",
       "ref": "590bfa92-bb11-486f-8a4b-de0d20e89611",
       "rows": [
        [
         "0",
         "45654403",
         "13328",
         "1399",
         "LEXUS",
         "RX 450",
         "2010",
         "Jeep",
         "Yes",
         "Hybrid",
         "3.5",
         "186005 km",
         "6.0",
         "Automatic",
         "4x4",
         "04-May",
         "Left wheel",
         "Silver",
         "12"
        ],
        [
         "1",
         "44731507",
         "16621",
         "1018",
         "CHEVROLET",
         "Equinox",
         "2011",
         "Jeep",
         "No",
         "Petrol",
         "3",
         "192000 km",
         "6.0",
         "Tiptronic",
         "4x4",
         "04-May",
         "Left wheel",
         "Black",
         "8"
        ],
        [
         "2",
         "45774419",
         "8467",
         "-",
         "HONDA",
         "FIT",
         "2006",
         "Hatchback",
         "No",
         "Petrol",
         "1.3",
         "200000 km",
         "4.0",
         "Variator",
         "Front",
         "04-May",
         "Right-hand drive",
         "Black",
         "2"
        ],
        [
         "3",
         "45769185",
         "3607",
         "862",
         "FORD",
         "Escape",
         "2011",
         "Jeep",
         "Yes",
         "Hybrid",
         "2.5",
         "168966 km",
         "4.0",
         "Automatic",
         "4x4",
         "04-May",
         "Left wheel",
         "White",
         "0"
        ],
        [
         "4",
         "45809263",
         "11726",
         "446",
         "HONDA",
         "FIT",
         "2014",
         "Hatchback",
         "Yes",
         "Petrol",
         "1.3",
         "91901 km",
         "4.0",
         "Automatic",
         "Front",
         "04-May",
         "Left wheel",
         "Silver",
         "4"
        ]
       ],
       "shape": {
        "columns": 18,
        "rows": 5
       }
      },
      "text/html": [
       "<div>\n",
       "<style scoped>\n",
       "    .dataframe tbody tr th:only-of-type {\n",
       "        vertical-align: middle;\n",
       "    }\n",
       "\n",
       "    .dataframe tbody tr th {\n",
       "        vertical-align: top;\n",
       "    }\n",
       "\n",
       "    .dataframe thead th {\n",
       "        text-align: right;\n",
       "    }\n",
       "</style>\n",
       "<table border=\"1\" class=\"dataframe\">\n",
       "  <thead>\n",
       "    <tr style=\"text-align: right;\">\n",
       "      <th></th>\n",
       "      <th>ID</th>\n",
       "      <th>Price</th>\n",
       "      <th>Levy</th>\n",
       "      <th>Manufacturer</th>\n",
       "      <th>Model</th>\n",
       "      <th>Prod. year</th>\n",
       "      <th>Category</th>\n",
       "      <th>Leather interior</th>\n",
       "      <th>Fuel type</th>\n",
       "      <th>Engine volume</th>\n",
       "      <th>Mileage</th>\n",
       "      <th>Cylinders</th>\n",
       "      <th>Gear box type</th>\n",
       "      <th>Drive wheels</th>\n",
       "      <th>Doors</th>\n",
       "      <th>Wheel</th>\n",
       "      <th>Color</th>\n",
       "      <th>Airbags</th>\n",
       "    </tr>\n",
       "  </thead>\n",
       "  <tbody>\n",
       "    <tr>\n",
       "      <th>0</th>\n",
       "      <td>45654403</td>\n",
       "      <td>13328</td>\n",
       "      <td>1399</td>\n",
       "      <td>LEXUS</td>\n",
       "      <td>RX 450</td>\n",
       "      <td>2010</td>\n",
       "      <td>Jeep</td>\n",
       "      <td>Yes</td>\n",
       "      <td>Hybrid</td>\n",
       "      <td>3.5</td>\n",
       "      <td>186005 km</td>\n",
       "      <td>6.0</td>\n",
       "      <td>Automatic</td>\n",
       "      <td>4x4</td>\n",
       "      <td>04-May</td>\n",
       "      <td>Left wheel</td>\n",
       "      <td>Silver</td>\n",
       "      <td>12</td>\n",
       "    </tr>\n",
       "    <tr>\n",
       "      <th>1</th>\n",
       "      <td>44731507</td>\n",
       "      <td>16621</td>\n",
       "      <td>1018</td>\n",
       "      <td>CHEVROLET</td>\n",
       "      <td>Equinox</td>\n",
       "      <td>2011</td>\n",
       "      <td>Jeep</td>\n",
       "      <td>No</td>\n",
       "      <td>Petrol</td>\n",
       "      <td>3</td>\n",
       "      <td>192000 km</td>\n",
       "      <td>6.0</td>\n",
       "      <td>Tiptronic</td>\n",
       "      <td>4x4</td>\n",
       "      <td>04-May</td>\n",
       "      <td>Left wheel</td>\n",
       "      <td>Black</td>\n",
       "      <td>8</td>\n",
       "    </tr>\n",
       "    <tr>\n",
       "      <th>2</th>\n",
       "      <td>45774419</td>\n",
       "      <td>8467</td>\n",
       "      <td>-</td>\n",
       "      <td>HONDA</td>\n",
       "      <td>FIT</td>\n",
       "      <td>2006</td>\n",
       "      <td>Hatchback</td>\n",
       "      <td>No</td>\n",
       "      <td>Petrol</td>\n",
       "      <td>1.3</td>\n",
       "      <td>200000 km</td>\n",
       "      <td>4.0</td>\n",
       "      <td>Variator</td>\n",
       "      <td>Front</td>\n",
       "      <td>04-May</td>\n",
       "      <td>Right-hand drive</td>\n",
       "      <td>Black</td>\n",
       "      <td>2</td>\n",
       "    </tr>\n",
       "    <tr>\n",
       "      <th>3</th>\n",
       "      <td>45769185</td>\n",
       "      <td>3607</td>\n",
       "      <td>862</td>\n",
       "      <td>FORD</td>\n",
       "      <td>Escape</td>\n",
       "      <td>2011</td>\n",
       "      <td>Jeep</td>\n",
       "      <td>Yes</td>\n",
       "      <td>Hybrid</td>\n",
       "      <td>2.5</td>\n",
       "      <td>168966 km</td>\n",
       "      <td>4.0</td>\n",
       "      <td>Automatic</td>\n",
       "      <td>4x4</td>\n",
       "      <td>04-May</td>\n",
       "      <td>Left wheel</td>\n",
       "      <td>White</td>\n",
       "      <td>0</td>\n",
       "    </tr>\n",
       "    <tr>\n",
       "      <th>4</th>\n",
       "      <td>45809263</td>\n",
       "      <td>11726</td>\n",
       "      <td>446</td>\n",
       "      <td>HONDA</td>\n",
       "      <td>FIT</td>\n",
       "      <td>2014</td>\n",
       "      <td>Hatchback</td>\n",
       "      <td>Yes</td>\n",
       "      <td>Petrol</td>\n",
       "      <td>1.3</td>\n",
       "      <td>91901 km</td>\n",
       "      <td>4.0</td>\n",
       "      <td>Automatic</td>\n",
       "      <td>Front</td>\n",
       "      <td>04-May</td>\n",
       "      <td>Left wheel</td>\n",
       "      <td>Silver</td>\n",
       "      <td>4</td>\n",
       "    </tr>\n",
       "  </tbody>\n",
       "</table>\n",
       "</div>"
      ],
      "text/plain": [
       "         ID  Price  Levy Manufacturer    Model  Prod. year   Category  \\\n",
       "0  45654403  13328  1399        LEXUS   RX 450        2010       Jeep   \n",
       "1  44731507  16621  1018    CHEVROLET  Equinox        2011       Jeep   \n",
       "2  45774419   8467     -        HONDA      FIT        2006  Hatchback   \n",
       "3  45769185   3607   862         FORD   Escape        2011       Jeep   \n",
       "4  45809263  11726   446        HONDA      FIT        2014  Hatchback   \n",
       "\n",
       "  Leather interior Fuel type Engine volume    Mileage  Cylinders  \\\n",
       "0              Yes    Hybrid           3.5  186005 km        6.0   \n",
       "1               No    Petrol             3  192000 km        6.0   \n",
       "2               No    Petrol           1.3  200000 km        4.0   \n",
       "3              Yes    Hybrid           2.5  168966 km        4.0   \n",
       "4              Yes    Petrol           1.3   91901 km        4.0   \n",
       "\n",
       "  Gear box type Drive wheels   Doors             Wheel   Color  Airbags  \n",
       "0     Automatic          4x4  04-May        Left wheel  Silver       12  \n",
       "1     Tiptronic          4x4  04-May        Left wheel   Black        8  \n",
       "2      Variator        Front  04-May  Right-hand drive   Black        2  \n",
       "3     Automatic          4x4  04-May        Left wheel   White        0  \n",
       "4     Automatic        Front  04-May        Left wheel  Silver        4  "
      ]
     },
     "execution_count": 4,
     "metadata": {},
     "output_type": "execute_result"
    }
   ],
   "source": [
    "df.head()"
   ]
  },
  {
   "cell_type": "markdown",
   "metadata": {},
   "source": [
    "\n",
    "Dataset ini berisi informasi kendaraan dengan berbagai fitur seperti **merek, model, tahun produksi, jenis bahan bakar, dan harga**. \n",
    "\n",
    "Beberapa kolom seperti **Levy dan Mileage** memiliki format angka bercampur string yang perlu dibersihkan.  \n",
    "\n",
    "Selain itu, dapat kita lihat terdapat fitur kategorikal seperti **Leather Interior, Gear Box Type, dan Drive Wheels**, yang penting untuk eksplorasi lebih lanjut! 🚗📊  \n",
    "\n",
    "---"
   ]
  },
  {
   "cell_type": "markdown",
   "metadata": {},
   "source": [
    "### 📂 **Informasi Dasar Dataset**  \n",
    "\n",
    "Sebelum melangkah lebih jauh, mari kita **mengenal struktur dataset** ini dengan melihat jumlah baris, jumlah kolom, dan tipe data yang digunakan.  "
   ]
  },
  {
   "cell_type": "code",
   "execution_count": 5,
   "metadata": {},
   "outputs": [
    {
     "name": "stdout",
     "output_type": "stream",
     "text": [
      "\n",
      "Informasi Dasar Dataset:\n",
      "Jumlah Baris: 19237\n",
      "Jumlah Kolom: 18\n",
      "Ukuran Memory: 2.64 MB\n",
      "\n",
      "Tipe Data Masing-masing Kolom:\n"
     ]
    },
    {
     "data": {
      "text/plain": [
       "ID                    int64\n",
       "Price                 int64\n",
       "Levy                 object\n",
       "Manufacturer         object\n",
       "Model                object\n",
       "Prod. year            int64\n",
       "Category             object\n",
       "Leather interior     object\n",
       "Fuel type            object\n",
       "Engine volume        object\n",
       "Mileage              object\n",
       "Cylinders           float64\n",
       "Gear box type        object\n",
       "Drive wheels         object\n",
       "Doors                object\n",
       "Wheel                object\n",
       "Color                object\n",
       "Airbags               int64\n",
       "dtype: object"
      ]
     },
     "metadata": {},
     "output_type": "display_data"
    }
   ],
   "source": [
    "# Informasi Dasar Dataset\n",
    "print(\"\\nInformasi Dasar Dataset:\")\n",
    "print(f\"Jumlah Baris: {df.shape[0]}\")\n",
    "print(f\"Jumlah Kolom: {df.shape[1]}\")\n",
    "print(f\"Ukuran Memory: {df.memory_usage().sum() / 1024**2:.2f} MB\")\n",
    "print(\"\\nTipe Data Masing-masing Kolom:\")\n",
    "display(df.dtypes)"
   ]
  },
  {
   "cell_type": "markdown",
   "metadata": {},
   "source": [
    "📌 **Mengenal Struktur Data dengan Lebih Dekat!**  \n",
    "\n",
    "Dataset ini berisi **19.237 baris dan 18 kolom**, dengan ukuran yang cukup ringan (**2.64 MB**).  \n",
    "Terdapat kombinasi **data numerik** 🧮 (int64, float64) dan **data kategorikal** 🔤 (object).  \n",
    "\n",
    "🚨 **Tapi ada yang perlu diperhatikan!**  \n",
    "Beberapa kolom memiliki **tipe data yang kurang sesuai**, sehingga harus kita bersihkan sebelum dianalisis lebih lanjut:  \n",
    "\n",
    "🔍 **Kolom yang perlu diperbaiki:**  \n",
    "✅ **Levy** → Harusnya **int/float**, karena pajak dan biaya kendaraan seharusnya berbentuk angka 💰  \n",
    "✅ **Cylinders** → Tidak mungkin ada **jumlah silinder desimal**, harus berupa **bilangan bulat (int)** ⚙️  \n",
    "✅ **Engine Volume** → Harus **float**, karena kapasitas mesin sering dinyatakan dengan desimal 🏎️  \n",
    "✅ **Mileage** → Seharusnya **int/float**, karena menunjukkan jarak tempuh dalam angka 🚗  \n",
    "\n",
    "---"
   ]
  },
  {
   "cell_type": "markdown",
   "metadata": {},
   "source": [
    "### 🛠️ **Memperbaiki Struktur Data**  \n",
    "\n",
    "Sebelum melangkah lebih jauh, kita perlu **membersihkan dan memperbaiki** beberapa kolom yang memiliki **tipe data tidak sesuai**.  \n",
    "\n",
    "🔎 **Apa yang akan kita lakukan?**  \n",
    "- **Mengonversi kolom Levy & Mileage** menjadi **numerik** agar bisa digunakan dalam analisis 📊  \n",
    "- **Memastikan Cylinders bertipe integer**, karena tidak ada mobil dengan setengah silinder! ⚙️  \n",
    "- **Mengubah Engine Volume menjadi float**, karena kapasitas mesin sering menggunakan desimal 🚗  \n",
    "\n",
    "Mari mulai dengan kolom `Levy`⚡"
   ]
  },
  {
   "cell_type": "code",
   "execution_count": 6,
   "metadata": {},
   "outputs": [
    {
     "data": {
      "text/plain": [
       "array(['1399', '1018', '-', '862', '446', '891', '761', '751', '394',\n",
       "       '1053', '1055', '1079', '810', '2386', '1850', '531', '586',\n",
       "       '1249', '2455', '583', '1537', '1288', '915', '1750', '707',\n",
       "       '1077', '1486', '1091', '650', '382', '1436', '1194', '503',\n",
       "       '1017', '1104', '639', '629', '919', '781', '530', '640', '765',\n",
       "       '777', '779', '934', '769', '645', '1185', '1324', '830', '1187',\n",
       "       '1111', '760', '642', '1604', '1095', '966', '473', '1138', '1811',\n",
       "       '988', '917', '1156', '687', '11714', '836', '1347', '2866',\n",
       "       '1646', '259', '609', '697', '585', '475', '690', '308', '1823',\n",
       "       '1361', '1273', '924', '584', '2078', '831', '1172', '893', '1872',\n",
       "       '1885', '1266', '447', '2148', '1730', '730', '289', '502', '333',\n",
       "       '1325', '247', '879', '1342', '1327', '1598', '1514', '1058',\n",
       "       '738', '1935', '481', '1522', '1282', '456', '880', '900', '798',\n",
       "       '1277', '442', '1051', '790', '1292', '1047', '528', '1211',\n",
       "       '1493', '1793', '574', '930', '1998', '271', '706', '1481', '1677',\n",
       "       '1661', '1286', '1408', '1090', '595', '1451', '1267', '993',\n",
       "       '1714', '878', '641', '749', '1511', '603', '353', '877', '1236',\n",
       "       '1141', '397', '784', '1024', '1357', '1301', '770', '922', '1438',\n",
       "       '753', '607', '1363', '638', '490', '431', '565', '517', '833',\n",
       "       '489', '1760', '986', '1841', '1620', '1360', '474', '1099', '978',\n",
       "       '1624', '1946', '1268', '1307', '696', '649', '666', '2151', '551',\n",
       "       '800', '971', '1323', '2377', '1845', '1083', '694', '463', '419',\n",
       "       '345', '1515', '1505', '2056', '1203', '729', '460', '1356', '876',\n",
       "       '911', '1190', '780', '448', '2410', '1848', '1148', '834', '1275',\n",
       "       '1028', '1197', '724', '890', '1705', '505', '789', '2959', '518',\n",
       "       '461', '1719', '2858', '3156', '2225', '2177', '1968', '1888',\n",
       "       '1308', '2736', '1103', '557', '2195', '843', '1664', '723',\n",
       "       '4508', '562', '501', '2018', '1076', '1202', '3301', '691',\n",
       "       '1440', '1869', '1178', '418', '1820', '1413', '488', '1304',\n",
       "       '363', '2108', '521', '1659', '87', '1411', '1528', '3292', '7058',\n",
       "       '1578', '627', '874', '1996', '1488', '5679', '1234', '5603',\n",
       "       '400', '889', '3268', '875', '949', '2265', '441', '742', '425',\n",
       "       '2476', '2971', '614', '1816', '1375', '1405', '2297', '1062',\n",
       "       '1113', '420', '2469', '658', '1951', '2670', '2578', '1995',\n",
       "       '1032', '994', '1011', '2421', '1296', '155', '494', '426', '1086',\n",
       "       '961', '2236', '1829', '764', '1834', '1054', '617', '1529',\n",
       "       '2266', '637', '626', '1832', '1016', '2002', '1756', '746',\n",
       "       '1285', '2690', '1118', '5332', '980', '1807', '970', '1228',\n",
       "       '1195', '1132', '1768', '1384', '1080', '7063', '1817', '1452',\n",
       "       '1975', '1368', '702', '1974', '1781', '1036', '944', '663', '364',\n",
       "       '1539', '1345', '1680', '2209', '741', '1575', '695', '1317',\n",
       "       '294', '1525', '424', '997', '1473', '1552', '2819', '2188',\n",
       "       '1668', '3057', '799', '1502', '2606', '552', '1694', '1759',\n",
       "       '1110', '399', '1470', '1174', '5877', '1474', '1688', '526',\n",
       "       '686', '5908', '1107', '2070', '1468', '1246', '1685', '556',\n",
       "       '1533', '1917', '1346', '732', '692', '579', '421', '362', '3505',\n",
       "       '1855', '2711', '1586', '3739', '681', '1708', '2278', '1701',\n",
       "       '722', '1482', '928', '827', '832', '527', '604', '173', '1341',\n",
       "       '3329', '1553', '859', '167', '916', '828', '2082', '1176', '1108',\n",
       "       '975', '3008', '1516', '2269', '1699', '2073', '1031', '1503',\n",
       "       '2364', '1030', '1442', '5666', '2715', '1437', '2067', '1426',\n",
       "       '2908', '1279', '866', '4283', '279', '2658', '3015', '2004',\n",
       "       '1391', '4736', '748', '1466', '644', '683', '2705', '1297', '731',\n",
       "       '1252', '2216', '3141', '3273', '1518', '1723', '1588', '972',\n",
       "       '682', '1094', '668', '175', '967', '402', '3894', '1960', '1599',\n",
       "       '2000', '2084', '1621', '714', '1109', '3989', '873', '1572',\n",
       "       '1163', '1991', '1716', '1673', '2562', '2874', '965', '462',\n",
       "       '605', '1948', '1736', '3518', '2054', '2467', '1681', '1272',\n",
       "       '1205', '750', '2156', '2566', '115', '524', '3184', '676', '1678',\n",
       "       '612', '328', '955', '1441', '1675', '3965', '2909', '623', '822',\n",
       "       '867', '3025', '1993', '792', '636', '4057', '3743', '2337',\n",
       "       '2570', '2418', '2472', '3910', '1662', '2123', '2628', '3208',\n",
       "       '2080', '3699', '2913', '864', '2505', '870', '7536', '1924',\n",
       "       '1671', '1064', '1836', '1866', '4741', '841', '1369', '5681',\n",
       "       '3112', '1366', '2223', '1198', '1039', '3811', '3571', '1387',\n",
       "       '1171', '1365', '1531', '1590', '11706', '2308', '4860', '1641',\n",
       "       '1045', '1901'], dtype=object)"
      ]
     },
     "execution_count": 6,
     "metadata": {},
     "output_type": "execute_result"
    }
   ],
   "source": [
    "df['Levy'].unique()"
   ]
  },
  {
   "cell_type": "markdown",
   "metadata": {},
   "source": [
    "⚠️ **Ada Penyusup di Data Kita!** 😲  \n",
    "\n",
    "Saat kita cek tipe data, ternyata beberapa kolom yang **seharusnya numerik** malah bertipe **object**.  \n",
    "Setelah diamati lebih lanjut, penyebabnya adalah adanya nilai **\"-\"** yang bukan merupakan angka! ❌🔢  \n",
    "\n",
    "🎯 **Solusi!**  \n",
    "Kita akan mengganti nilai **\"-\"** dengan **NaN (Not a Number)**, sehingga dianggap sebagai **nilai kosong**.  \n",
    "Setelah itu, kita bisa dengan mudah **mengubah tipe kolom menjadi numerik** dan siap digunakan dalam analisis! 🚀📊  "
   ]
  },
  {
   "cell_type": "code",
   "execution_count": 7,
   "metadata": {},
   "outputs": [
    {
     "data": {
      "text/plain": [
       "dtype('float64')"
      ]
     },
     "execution_count": 7,
     "metadata": {},
     "output_type": "execute_result"
    }
   ],
   "source": [
    "# 1. Perbaiki kolom Levy: ganti \"-\" dengan NaN\n",
    "df['Levy'] = df['Levy'].replace('-', np.nan)\n",
    "df['Levy'] = pd.to_numeric(df['Levy'], errors='coerce')\n",
    "df['Levy'].dtypes"
   ]
  },
  {
   "cell_type": "markdown",
   "metadata": {},
   "source": [
    "Oke sekarang kolom `Levy` sudah bertipe numerik ✅\n",
    "\n",
    "Lanjut ke kolom `Mileage` 🔢"
   ]
  },
  {
   "cell_type": "code",
   "execution_count": 8,
   "metadata": {},
   "outputs": [
    {
     "data": {
      "text/plain": [
       "array(['186005 km', '192000 km', '200000 km', ..., '140607 km',\n",
       "       '307325 km', '186923 km'], dtype=object)"
      ]
     },
     "execution_count": 8,
     "metadata": {},
     "output_type": "execute_result"
    }
   ],
   "source": [
    "df['Mileage'].unique()"
   ]
  },
  {
   "cell_type": "markdown",
   "metadata": {},
   "source": [
    "Setelah dilakukan pengecekan, ditemukan bahwa kolom **Mileage** memiliki format yang tidak sepenuhnya numerik.  \n",
    "Setiap nilai pada kolom ini memiliki akhiran **\"km\"**, sehingga tipe data yang seharusnya numerik terbaca sebagai **object**.  \n",
    "\n",
    "Agar dapat digunakan dalam analisis lebih lanjut, kita perlu **menghapus akhiran \"km\"** dan mengonversi kolom ini menjadi **numerik**.  \n",
    "Langkah ini memastikan data lebih bersih dan dapat digunakan dalam perhitungan statistik serta pemodelan. 📊✅  "
   ]
  },
  {
   "cell_type": "code",
   "execution_count": 9,
   "metadata": {},
   "outputs": [
    {
     "data": {
      "text/plain": [
       "dtype('int64')"
      ]
     },
     "execution_count": 9,
     "metadata": {},
     "output_type": "execute_result"
    }
   ],
   "source": [
    "def clean_mileage(val):\n",
    "    if isinstance(val, str):\n",
    "        # Ekstrak angka dari string (misal: \"186005 km\" -> 186005)\n",
    "        match = re.search(r'(\\d+)', str(val))\n",
    "        if match:\n",
    "            return int(match.group(1))\n",
    "    return np.nan\n",
    "\n",
    "df['Mileage'] = df['Mileage'].apply(clean_mileage)\n",
    "\n",
    "df['Mileage'].dtypes"
   ]
  },
  {
   "cell_type": "markdown",
   "metadata": {},
   "source": [
    "Oke sekarang kolom `Mileage` sudah bertipe numerik ✅\n",
    "\n",
    "Lanjut ke kolom `Cylinders` ➰"
   ]
  },
  {
   "cell_type": "code",
   "execution_count": 10,
   "metadata": {},
   "outputs": [
    {
     "data": {
      "text/plain": [
       "array([ 6.,  4.,  8.,  1., 12.,  3.,  2., 16.,  5.,  7.,  9., 10., 14.])"
      ]
     },
     "execution_count": 10,
     "metadata": {},
     "output_type": "execute_result"
    }
   ],
   "source": [
    "df['Cylinders'].unique()"
   ]
  },
  {
   "cell_type": "markdown",
   "metadata": {},
   "source": [
    "Setelah dicek, kolom **Cylinders** memiliki tipe data **float**, padahal jumlah silinder pada kendaraan harusnya berupa **bilangan bulat (int)**.  \n",
    "Tidak masuk akal jika sebuah kendaraan memiliki jumlah silinder desimal, sehingga kita perlu mengonversinya ke **integer** agar lebih sesuai.  "
   ]
  },
  {
   "cell_type": "code",
   "execution_count": 11,
   "metadata": {},
   "outputs": [
    {
     "data": {
      "text/plain": [
       "dtype('int64')"
      ]
     },
     "execution_count": 11,
     "metadata": {},
     "output_type": "execute_result"
    }
   ],
   "source": [
    "df[\"Cylinders\"] = df[\"Cylinders\"].astype(int)\n",
    "\n",
    "df['Cylinders'].dtypes"
   ]
  },
  {
   "cell_type": "markdown",
   "metadata": {},
   "source": [
    "Oke sekarang kolom `Cylinders` sudah bertipe int ✅\n",
    "\n",
    "Lanjut ke kolom `Engine Volume` 🚒"
   ]
  },
  {
   "cell_type": "code",
   "execution_count": 12,
   "metadata": {},
   "outputs": [
    {
     "data": {
      "text/plain": [
       "array(['3.5', '3', '1.3', '2.5', '2', '1.8', '2.4', '4', '1.6', '3.3',\n",
       "       '2.0 Turbo', '2.2 Turbo', '4.7', '1.5', '4.4', '3.0 Turbo',\n",
       "       '1.4 Turbo', '3.6', '2.3', '1.5 Turbo', '1.6 Turbo', '2.2',\n",
       "       '2.3 Turbo', '1.4', '5.5', '2.8 Turbo', '3.2', '3.8', '4.6', '1.2',\n",
       "       '5', '1.7', '2.9', '0.5', '1.8 Turbo', '2.4 Turbo', '3.5 Turbo',\n",
       "       '1.9', '2.7', '4.8', '5.3', '0.4', '2.8', '3.2 Turbo', '1.1',\n",
       "       '2.1', '0.7', '5.4', '1.3 Turbo', '3.7', '1', '2.5 Turbo', '2.6',\n",
       "       '1.9 Turbo', '4.4 Turbo', '4.7 Turbo', '0.8', '0.2 Turbo', '5.7',\n",
       "       '4.8 Turbo', '4.6 Turbo', '6.7', '6.2', '1.2 Turbo', '3.4',\n",
       "       '1.7 Turbo', '6.3 Turbo', '2.7 Turbo', '4.3', '4.2', '2.9 Turbo',\n",
       "       '0', '4.0 Turbo', '20', '3.6 Turbo', '0.3', '3.7 Turbo', '5.9',\n",
       "       '5.5 Turbo', '0.2', '2.1 Turbo', '5.6', '6', '0.7 Turbo',\n",
       "       '0.6 Turbo', '6.8', '4.5', '0.6', '7.3', '0.1', '1.0 Turbo', '6.3',\n",
       "       '4.5 Turbo', '0.8 Turbo', '4.2 Turbo', '3.1', '5.0 Turbo', '6.4',\n",
       "       '3.9', '5.7 Turbo', '0.9', '0.4 Turbo', '5.4 Turbo', '0.3 Turbo',\n",
       "       '5.2', '5.8', '1.1 Turbo'], dtype=object)"
      ]
     },
     "execution_count": 12,
     "metadata": {},
     "output_type": "execute_result"
    }
   ],
   "source": [
    "df['Engine volume'].unique()"
   ]
  },
  {
   "cell_type": "markdown",
   "metadata": {},
   "source": [
    "Setelah dianalisis, kolom **Engine Volume** memiliki masalah format, di mana beberapa nilai mengandung kata **\"Turbo\"**, menyebabkan tipe data kolom menjadi **object** alih-alih numerik.  \n",
    "Padahal, informasi \"Turbo\" seharusnya menjadi fitur terpisah dan tidak bercampur dengan angka.  \n",
    "\n",
    "Untuk mengatasinya, kita akan melakukan dua langkah:  \n",
    "✅ **Menghapus kata \"Turbo\"** sehingga kolom **Engine Volume** bisa dikonversi menjadi tipe **float**.  \n",
    "✅ **Menambahkan kolom baru \"IsTurbo\"** yang berisi nilai **True** jika mobil memiliki turbo dan **False** jika tidak.  \n",
    "\n",
    "Dengan langkah ini, kita tidak hanya membersihkan data, tetapi juga mempertahankan informasi penting tentang turbo dalam format yang lebih terstruktur. 🔥🔧"
   ]
  },
  {
   "cell_type": "code",
   "execution_count": 13,
   "metadata": {},
   "outputs": [],
   "source": [
    "# Membuat kolom IsTurbo berdasarkan apakah terdapat kata \"Turbo\"\n",
    "df[\"IsTurbo\"] = df[\"Engine volume\"].str.contains(\"Turbo\", na=False)\n",
    "\n",
    "# Menghapus \"Turbo\" dan mengonversi kolom menjadi float\n",
    "df[\"Engine volume\"] = df[\"Engine volume\"].str.replace(\" Turbo\", \"\", regex=True).astype(float)"
   ]
  },
  {
   "cell_type": "markdown",
   "metadata": {},
   "source": [
    "---"
   ]
  },
  {
   "cell_type": "markdown",
   "metadata": {},
   "source": [
    "### 🎯 **Statistik Deskriptif untuk Kolom Numerik**  \n",
    "\n",
    "Sebelum melangkah lebih jauh, mari kita lihat **statistik deskriptif** dari kolom numerik! 📊  \n",
    "\n",
    "🔎 **Apa yang kita lakukan?**  \n",
    "- Menganalisis **rata-rata, median, nilai minimum & maksimum** untuk memahami distribusi data.  \n",
    "- Menghitung **range (max - min)** untuk mengetahui tingkat variasi setiap fitur.  \n",
    "- Melihat **jumlah nilai unik** guna membedakan fitur **kontinu atau diskrit**.  \n",
    "\n",
    "🚀 **Mengapa ini penting?**  \n",
    "- Membantu menemukan **outlier**, misalnya harga mobil yang tidak wajar.  \n",
    "- Mengidentifikasi apakah ada **skala nilai yang perlu dinormalisasi**.  \n",
    "- Menentukan fitur mana yang paling berpengaruh terhadap harga mobil!  \n",
    "\n",
    "Dengan ini, kita bisa mulai menggali **wawasan menarik dari dataset**! 🔥📉  "
   ]
  },
  {
   "cell_type": "code",
   "execution_count": 14,
   "metadata": {},
   "outputs": [
    {
     "name": "stdout",
     "output_type": "stream",
     "text": [
      "Statistik Deskriptif untuk Kolom Numerik:\n"
     ]
    },
    {
     "data": {
      "application/vnd.microsoft.datawrangler.viewer.v0+json": {
       "columns": [
        {
         "name": "index",
         "rawType": "object",
         "type": "string"
        },
        {
         "name": "count",
         "rawType": "float64",
         "type": "float"
        },
        {
         "name": "mean",
         "rawType": "float64",
         "type": "float"
        },
        {
         "name": "std",
         "rawType": "float64",
         "type": "float"
        },
        {
         "name": "min",
         "rawType": "float64",
         "type": "float"
        },
        {
         "name": "25%",
         "rawType": "float64",
         "type": "float"
        },
        {
         "name": "50%",
         "rawType": "float64",
         "type": "float"
        },
        {
         "name": "75%",
         "rawType": "float64",
         "type": "float"
        },
        {
         "name": "max",
         "rawType": "float64",
         "type": "float"
        },
        {
         "name": "range",
         "rawType": "float64",
         "type": "float"
        }
       ],
       "conversionMethod": "pd.DataFrame",
       "ref": "a52803db-1608-4535-93bc-d892279a9afd",
       "rows": [
        [
         "Mileage",
         "19237.0",
         "1532235.68768519",
         "48403869.37929029",
         "0.0",
         "70139.0",
         "126000.0",
         "188888.0",
         "2147483647.0",
         "2147483647.0"
        ],
        [
         "Price",
         "19237.0",
         "18555.92722357956",
         "190581.26968400914",
         "1.0",
         "5331.0",
         "13172.0",
         "22075.0",
         "26307500.0",
         "26307499.0"
        ],
        [
         "ID",
         "19237.0",
         "45576535.886104904",
         "936591.4227992407",
         "20746880.0",
         "45698374.0",
         "45772308.0",
         "45802036.0",
         "45816654.0",
         "25069774.0"
        ],
        [
         "Levy",
         "13418.0",
         "906.8381278879118",
         "461.86705123913134",
         "87.0",
         "640.0",
         "781.0",
         "1058.0",
         "11714.0",
         "11627.0"
        ],
        [
         "Prod. year",
         "19237.0",
         "2010.9128242449447",
         "5.668672994387615",
         "1939.0",
         "2009.0",
         "2012.0",
         "2015.0",
         "2020.0",
         "81.0"
        ],
        [
         "Engine volume",
         "19237.0",
         "2.307989811301139",
         "0.8778045085021817",
         "0.0",
         "1.8",
         "2.0",
         "2.5",
         "20.0",
         "20.0"
        ],
        [
         "Airbags",
         "19237.0",
         "6.582627228777876",
         "4.320168394922048",
         "0.0",
         "4.0",
         "6.0",
         "12.0",
         "16.0",
         "16.0"
        ],
        [
         "Cylinders",
         "19237.0",
         "4.582991110880075",
         "1.1999331679654894",
         "1.0",
         "4.0",
         "4.0",
         "4.0",
         "16.0",
         "15.0"
        ]
       ],
       "shape": {
        "columns": 9,
        "rows": 8
       }
      },
      "text/html": [
       "<div>\n",
       "<style scoped>\n",
       "    .dataframe tbody tr th:only-of-type {\n",
       "        vertical-align: middle;\n",
       "    }\n",
       "\n",
       "    .dataframe tbody tr th {\n",
       "        vertical-align: top;\n",
       "    }\n",
       "\n",
       "    .dataframe thead th {\n",
       "        text-align: right;\n",
       "    }\n",
       "</style>\n",
       "<table border=\"1\" class=\"dataframe\">\n",
       "  <thead>\n",
       "    <tr style=\"text-align: right;\">\n",
       "      <th></th>\n",
       "      <th>count</th>\n",
       "      <th>mean</th>\n",
       "      <th>std</th>\n",
       "      <th>min</th>\n",
       "      <th>25%</th>\n",
       "      <th>50%</th>\n",
       "      <th>75%</th>\n",
       "      <th>max</th>\n",
       "      <th>range</th>\n",
       "    </tr>\n",
       "  </thead>\n",
       "  <tbody>\n",
       "    <tr>\n",
       "      <th>Mileage</th>\n",
       "      <td>19237.0</td>\n",
       "      <td>1.532236e+06</td>\n",
       "      <td>4.840387e+07</td>\n",
       "      <td>0.0</td>\n",
       "      <td>70139.0</td>\n",
       "      <td>126000.0</td>\n",
       "      <td>188888.0</td>\n",
       "      <td>2.147484e+09</td>\n",
       "      <td>2.147484e+09</td>\n",
       "    </tr>\n",
       "    <tr>\n",
       "      <th>Price</th>\n",
       "      <td>19237.0</td>\n",
       "      <td>1.855593e+04</td>\n",
       "      <td>1.905813e+05</td>\n",
       "      <td>1.0</td>\n",
       "      <td>5331.0</td>\n",
       "      <td>13172.0</td>\n",
       "      <td>22075.0</td>\n",
       "      <td>2.630750e+07</td>\n",
       "      <td>2.630750e+07</td>\n",
       "    </tr>\n",
       "    <tr>\n",
       "      <th>ID</th>\n",
       "      <td>19237.0</td>\n",
       "      <td>4.557654e+07</td>\n",
       "      <td>9.365914e+05</td>\n",
       "      <td>20746880.0</td>\n",
       "      <td>45698374.0</td>\n",
       "      <td>45772308.0</td>\n",
       "      <td>45802036.0</td>\n",
       "      <td>4.581665e+07</td>\n",
       "      <td>2.506977e+07</td>\n",
       "    </tr>\n",
       "    <tr>\n",
       "      <th>Levy</th>\n",
       "      <td>13418.0</td>\n",
       "      <td>9.068381e+02</td>\n",
       "      <td>4.618671e+02</td>\n",
       "      <td>87.0</td>\n",
       "      <td>640.0</td>\n",
       "      <td>781.0</td>\n",
       "      <td>1058.0</td>\n",
       "      <td>1.171400e+04</td>\n",
       "      <td>1.162700e+04</td>\n",
       "    </tr>\n",
       "    <tr>\n",
       "      <th>Prod. year</th>\n",
       "      <td>19237.0</td>\n",
       "      <td>2.010913e+03</td>\n",
       "      <td>5.668673e+00</td>\n",
       "      <td>1939.0</td>\n",
       "      <td>2009.0</td>\n",
       "      <td>2012.0</td>\n",
       "      <td>2015.0</td>\n",
       "      <td>2.020000e+03</td>\n",
       "      <td>8.100000e+01</td>\n",
       "    </tr>\n",
       "    <tr>\n",
       "      <th>Engine volume</th>\n",
       "      <td>19237.0</td>\n",
       "      <td>2.307990e+00</td>\n",
       "      <td>8.778045e-01</td>\n",
       "      <td>0.0</td>\n",
       "      <td>1.8</td>\n",
       "      <td>2.0</td>\n",
       "      <td>2.5</td>\n",
       "      <td>2.000000e+01</td>\n",
       "      <td>2.000000e+01</td>\n",
       "    </tr>\n",
       "    <tr>\n",
       "      <th>Airbags</th>\n",
       "      <td>19237.0</td>\n",
       "      <td>6.582627e+00</td>\n",
       "      <td>4.320168e+00</td>\n",
       "      <td>0.0</td>\n",
       "      <td>4.0</td>\n",
       "      <td>6.0</td>\n",
       "      <td>12.0</td>\n",
       "      <td>1.600000e+01</td>\n",
       "      <td>1.600000e+01</td>\n",
       "    </tr>\n",
       "    <tr>\n",
       "      <th>Cylinders</th>\n",
       "      <td>19237.0</td>\n",
       "      <td>4.582991e+00</td>\n",
       "      <td>1.199933e+00</td>\n",
       "      <td>1.0</td>\n",
       "      <td>4.0</td>\n",
       "      <td>4.0</td>\n",
       "      <td>4.0</td>\n",
       "      <td>1.600000e+01</td>\n",
       "      <td>1.500000e+01</td>\n",
       "    </tr>\n",
       "  </tbody>\n",
       "</table>\n",
       "</div>"
      ],
      "text/plain": [
       "                 count          mean           std         min         25%  \\\n",
       "Mileage        19237.0  1.532236e+06  4.840387e+07         0.0     70139.0   \n",
       "Price          19237.0  1.855593e+04  1.905813e+05         1.0      5331.0   \n",
       "ID             19237.0  4.557654e+07  9.365914e+05  20746880.0  45698374.0   \n",
       "Levy           13418.0  9.068381e+02  4.618671e+02        87.0       640.0   \n",
       "Prod. year     19237.0  2.010913e+03  5.668673e+00      1939.0      2009.0   \n",
       "Engine volume  19237.0  2.307990e+00  8.778045e-01         0.0         1.8   \n",
       "Airbags        19237.0  6.582627e+00  4.320168e+00         0.0         4.0   \n",
       "Cylinders      19237.0  4.582991e+00  1.199933e+00         1.0         4.0   \n",
       "\n",
       "                      50%         75%           max         range  \n",
       "Mileage          126000.0    188888.0  2.147484e+09  2.147484e+09  \n",
       "Price             13172.0     22075.0  2.630750e+07  2.630750e+07  \n",
       "ID             45772308.0  45802036.0  4.581665e+07  2.506977e+07  \n",
       "Levy                781.0      1058.0  1.171400e+04  1.162700e+04  \n",
       "Prod. year         2012.0      2015.0  2.020000e+03  8.100000e+01  \n",
       "Engine volume         2.0         2.5  2.000000e+01  2.000000e+01  \n",
       "Airbags               6.0        12.0  1.600000e+01  1.600000e+01  \n",
       "Cylinders             4.0         4.0  1.600000e+01  1.500000e+01  "
      ]
     },
     "metadata": {},
     "output_type": "display_data"
    },
    {
     "name": "stdout",
     "output_type": "stream",
     "text": [
      "\n",
      "Jumlah Nilai Unik pada Kolom Numerik:\n",
      "ID: 18924 nilai unik\n",
      "Price: 2315 nilai unik\n",
      "Levy: 558 nilai unik\n",
      "Prod. year: 54 nilai unik\n",
      "Engine volume: 65 nilai unik\n",
      "Mileage: 7687 nilai unik\n",
      "Cylinders: 13 nilai unik\n",
      "Airbags: 17 nilai unik\n"
     ]
    }
   ],
   "source": [
    "# Analisis statistik deskriptif untuk kolom numerik\n",
    "print(\"Statistik Deskriptif untuk Kolom Numerik:\")\n",
    "numeric_stats = df.describe().T\n",
    "numeric_stats['range'] = numeric_stats['max'] - numeric_stats['min']\n",
    "numeric_stats = numeric_stats.sort_values(by='range', ascending=False)\n",
    "display(numeric_stats)\n",
    "\n",
    "# Menampilkan jumlah nilai unik untuk setiap kolom numerik\n",
    "print(\"\\nJumlah Nilai Unik pada Kolom Numerik:\")\n",
    "for col in df.select_dtypes(include=['int64', 'float64']).columns:\n",
    "    print(f\"{col}: {df[col].nunique()} nilai unik\")"
   ]
  }
 ],
 "metadata": {
  "kernelspec": {
   "display_name": ".all",
   "language": "python",
   "name": "python3"
  },
  "language_info": {
   "codemirror_mode": {
    "name": "ipython",
    "version": 3
   },
   "file_extension": ".py",
   "mimetype": "text/x-python",
   "name": "python",
   "nbconvert_exporter": "python",
   "pygments_lexer": "ipython3",
   "version": "3.12.3"
  }
 },
 "nbformat": 4,
 "nbformat_minor": 2
}
